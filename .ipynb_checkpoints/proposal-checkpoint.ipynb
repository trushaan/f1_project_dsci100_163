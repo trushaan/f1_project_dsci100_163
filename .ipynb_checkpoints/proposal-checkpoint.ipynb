{
 "cells": [
  {
   "cell_type": "code",
   "execution_count": null,
   "id": "6cf8966f",
   "metadata": {},
   "outputs": [
    {
     "name": "stderr",
     "output_type": "stream",
     "text": [
      "also installing the dependencies ‘checkmate’, ‘maditr’, ‘htmlTable’, ‘matrixStats’\n",
      "\n",
      "\n"
     ]
    }
   ],
   "source": [
    "library(tidyverse)\n",
    "library(tidymodels)\n",
    "library(repr)\n",
    "library(digest)\n",
    "library(infer)\n",
    "library(cowplot)\n",
    "install.packages(\"expss\")\n",
    "set.seed(1)"
   ]
  },
  {
   "cell_type": "markdown",
   "id": "cf70de7c-ba96-474e-95d2-968beaa05fc8",
   "metadata": {},
   "source": [
    "**Building a Model to Predict the Quality of Red Wine**\n",
    "\n",
    "Trushaan Bundhoo, Jennifer Chu, Mantra Patel, Maira Zaidi"
   ]
  },
  {
   "cell_type": "markdown",
   "id": "60001aac-38b7-4aee-a2a7-5cff1a47aeea",
   "metadata": {},
   "source": [
    "**Introduction**\n",
    "\n",
    "Winemaking is a large global industry, with over 330 billion USD worth of wine sold in 2020. Cheap wine is around 15 USD / bottle, with more expensive ones fetching 500 USD+. Wine price is dictated partly by its quality, which is linked to factors like sugar content, acidity, alcohol content, and more. We would like to ask: can we predict the quality of a wine based on some of its intrinsic qualities? If so, which ones make the best predictors of overall quality. We begin by reading in a dataset about red wines."
   ]
  },
  {
   "cell_type": "code",
   "execution_count": null,
   "id": "931a5515-c36b-4e30-a7c6-cba009b51125",
   "metadata": {},
   "outputs": [],
   "source": [
    "#reading the data\n",
    "red<- read_csv2(\"https://archive.ics.uci.edu/ml/machine-learning-databases/wine-quality/winequality-red.csv\") \n",
    "red"
   ]
  },
  {
   "cell_type": "markdown",
   "id": "366ecb29-a934-4677-ae2d-9cf1c14c6c63",
   "metadata": {},
   "source": [
    "**Preliminatory Data Analysis**"
   ]
  },
  {
   "cell_type": "markdown",
   "id": "e55a210f-9863-41a5-8441-b6a98af8b40b",
   "metadata": {},
   "source": [
    "With the data set loaded in, we see the many variables measured in each wine, as well as the quality rating of each wine. To start off our analysis, we will perform a 75/25 training split, and set the quality column as a factor. since the ratings are integers, they can represent distinct categories, and setting the column as a factor is neccessary for a classification analysis."
   ]
  },
  {
   "cell_type": "code",
   "execution_count": null,
   "id": "1a34f0b0-6044-449c-80fa-b35fb65d75c1",
   "metadata": {},
   "outputs": [],
   "source": [
    "#mutating 'quality' to factor variable since it represents categories\n",
    "red_data <- red |>\n",
    "            mutate(quality = as.factor(quality)) \n",
    "#making syntatically valid column names\n",
    "colnames(red_data) <- make.names(colnames(red_data))\n",
    "\n",
    "\n",
    "#creating training & testing set and making sure all varaibles are numeric values except quality variable\n",
    "red_split<-initial_split(red_data, prop=0.75, strata=quality)\n",
    "red_train<-training(red_split) |> mutate(chlorides =as.numeric(chlorides)) |> mutate(sulphates=as.numeric(sulphates)) |> mutate(volatile.acidity=as.numeric(volatile.acidity)) |> \n",
    "mutate(density=as.numeric(density)) |> mutate(citric.acid = as.numeric(citric.acid))\n",
    "\n",
    "red_test<-testing(red_split) |> mutate(chlorides =as.numeric(chlorides)) |> mutate(sulphates=as.numeric(sulphates)) |> mutate(volatile.acidity=as.numeric(volatile.acidity)) |> \n",
    "mutate(density=as.numeric(density)) |> mutate(citric.acid = as.numeric(citric.acid))\n",
    "\n",
    "\n",
    "red_train_set<-red_train\n",
    "red_test_set<-red_test \n",
    "red_train\n",
    "\n",
    "\n"
   ]
  },
  {
   "cell_type": "markdown",
   "id": "20e456bb-8df0-4baa-9332-52e84738e0e8",
   "metadata": {},
   "source": [
    "With our training andd testing sets made, we will now set our testing set aside. To aid in picking the best variables for our analysis, we will create a correlation matrix to find show which variables are most closely correlated with quality. We will convert all variables in our training set into the numerical type and call the \"cor\" function to create the correlation matrix.\n"
   ]
  },
  {
   "cell_type": "code",
   "execution_count": null,
   "id": "6b15b21f-0c2a-464d-b415-1570723f087e",
   "metadata": {},
   "outputs": [],
   "source": [
    "#finding out correlation between variables to select the variables that have the highest correlation with quality \n",
    "red_data2 <- red_train |> mutate(citric.acid=as.numeric(citric.acid)) |>mutate(volatile.acidity=as.numeric(volatile.acidity)) |>\n",
    "mutate(chlorides=as.numeric(chlorides)) |>mutate(density=as.numeric(density)) |>mutate(sulphates=as.numeric(sulphates)) |> mutate(quality=as.numeric(quality))\n",
    "res <- cor(red_data2)\n",
    "round(res, 2)"
   ]
  },
  {
   "cell_type": "markdown",
   "id": "80f49b0e-c32c-4a18-bf21-700d5ce91584",
   "metadata": {},
   "source": [
    "Looking under the quality column, the variables with the strongest correlations to quality are: volatile acidity, sulphates, citric acid, and density. While the correlation values point us in the right direction as to what predictors we should pick, they do not tell the whole story. To help us make a decisions about these predictors, we will create summary tables showing the mean values for each of these variables for a given quality rating"
   ]
  },
  {
   "cell_type": "markdown",
   "id": "e860a422-a51f-4b37-a5f4-cbb1350dce90",
   "metadata": {},
   "source": [
    "Moving on, we will now group the wines by quality and create a summary table to show the amount of wines with each quality rating."
   ]
  },
  {
   "cell_type": "code",
   "execution_count": null,
   "id": "d4ee2cb4-a67d-4503-9687-c2a4c1ae11d4",
   "metadata": {},
   "outputs": [],
   "source": [
    "\n",
    "#number of wines of each quality\n",
    "counts<-red_train_set |>\n",
    "        group_by(quality) |>\n",
    "        summarize(n=n())\n",
    "knitr::kable(counts, caption = \"1: Counts of Wines with Each Quality Rating\")\n",
    "\n",
    "#mean volatile acidity of each quality\n",
    "counts_volatile_acidity<-red_train |>\n",
    "                        group_by(quality) |>\n",
    "                        summarize(mean_volatile_acidity=mean(volatile.acidity)) \n",
    "knitr::kable(counts_volatile_acidity, caption = \"2: Mean Volatile Acidity for Each Quality Rating\")\n",
    "#mean sulphate content of each quality\n",
    "counts_sulphate<-red_train |>\n",
    "                        group_by(quality) |>\n",
    "                        summarize(mean_sulphate_content=mean(sulphates))\n",
    "knitr::kable(counts_sulphate, caption = \"3: Mean Sulphate Content for Each Quality Rating\")\n",
    "counts_density<-red_train |>\n",
    "                        group_by(quality) |>\n",
    "                        summarize(mean_density=mean(density))\n",
    "knitr::kable(counts_density, caption = \"4: Mean Density for Each Quality Rating\")\n",
    "\n",
    "counts_citric.acid<-red_train |>\n",
    "                        group_by(quality) |>\n",
    "                        summarize(mean_citric_acid=mean(citric.acid))\n",
    "knitr::kable(counts_citric.acid, caption = \"5: Mean Citric Acid Content for Each Quality Rating\")"
   ]
  },
  {
   "cell_type": "markdown",
   "id": "763a0d55-5299-41e0-bb7f-82f1fb4fa8a3",
   "metadata": {},
   "source": [
    "The two tables generated from our training set provide insight about the wrangled data. Table 1 provides the number of red wines that were given a particular rating, with most being rated a 5/8. Table 2 provides the mean volatile acidity value for each rating, and we see that as wine quality goes up, the mean volatile acidity goes down, which agrees with the correlation value of -0.39 from the correlation matrix generated earlier. With some insights in hand, we will now generate some plots to help visualize the relationships between our predictors and the wine quality. Table 3 shows that the average sulphate content of a wine increases as its quality goes up. \n"
   ]
  },
  {
   "cell_type": "code",
   "execution_count": null,
   "id": "0fe80c53-080b-4632-8cd2-98e3c4907a50",
   "metadata": {},
   "outputs": [],
   "source": [
    "options(repr.plot.width = 30, repr.plot.height = 20)\n",
    "\n",
    "#histogram of the number of wines for each quality\n",
    " count_plot <- ggplot(counts, aes(x=quality, y =n)) + geom_histogram(stat=\"identity\") + ggtitle(\"Figure 1: Counts of all Ratings\") + ylab(\"Quantity\") +xlab(\"Quality Rating\") + theme(text = element_text(size = 24)) \n",
    "count_plot\n",
    "\n",
    "#histogram for wine quality based on sulphur content, sulphur on x axis, bars filled by quality rating, y axis = quantity\n",
    " sulphur_plot <- ggplot(red_train, aes(x=sulphates, fill=quality)) + geom_histogram() + xlab(\"Sulphate Content\") + \n",
    "ylab(\"Quantity\") +labs(fill=\"Quality\") + ggtitle(\"Figure 2: Wine Quality Based on Sulphate Content\") + theme(text = element_text(size = 24))\n",
    "sulphur_plot\n",
    "\n",
    "#histogram for wine quality based on density, density on x axis, bars filled by quality rating, y axis = quantity\n",
    "density_plot <- ggplot(red_train, aes(x=density, fill=quality)) + geom_histogram() + xlab(\"Density\") + \n",
    "ylab(\"Quantity\") +labs(fill=\"Quality\") + ggtitle(\"Figure 3: Wine Quality Based on Density\") + theme(text = element_text(size = 24))\n",
    "density_plot\n",
    "\n",
    "#histogram for wine quality based on volatile acidity, volatile acidity on x axis, bars filled by quality rating, y axis = quantity\n",
    "volatile_acidity_plot <- ggplot(red_train, aes(x=volatile.acidity, fill=quality)) + geom_histogram() + xlab(\"Volatile Acidity\") + \n",
    "ylab(\"Quantity\") +labs(fill=\"Quality\") + ggtitle(\"Figure 4: Wine Quality Based on Volatile Acidity\") + theme(text = element_text(size = 24))\n",
    "volatile_acidity_plot\n",
    "\n"
   ]
  },
  {
   "cell_type": "markdown",
   "id": "9ec49356-727e-4155-89c4-b0c2e6cce022",
   "metadata": {},
   "source": [
    "The above plots reveal many things to us:\n",
    "- most wines have a quality rating of 5 or 6 out of 8 (Figure 1)\n",
    "- most wines with a sulphate level between 0.5 and 1 have a quality rating of either 5 or 6. (Figure 2)\n",
    "- most wines have a  density between 0.992 and 1.002 (Figure 3)\n",
    "- most wines with volatile acidity between 0.25 and 0.8 have a quality rating of 5 or 6 (Figure 4)\n",
    "\n",
    "\n"
   ]
  },
  {
   "cell_type": "markdown",
   "id": "994ed8d0-560c-4b54-b9bd-4d43bbd06200",
   "metadata": {},
   "source": [
    "**Methods**\n",
    "\n",
    "Using the volatile acidity, sulphates and density values from the training data, we will build a predictive model that determines the quality rating for a given red wine. The model will use K-nn classification, using nearest neighbors for each variable. Cross validation on our model will be performed 10 times, and the number of neighbors in the model will be determined by setting \"neighbors=tune()\" to test values from 1 to 10. The K value with the highest training accuracy will be used to build the final K-nn classification model, which we will then apply to the testing data to predict quality ratings.\n"
   ]
  },
  {
   "cell_type": "markdown",
   "id": "b6108123-38d7-439b-a688-79276c909eae",
   "metadata": {
    "tags": []
   },
   "source": [
    "**Expected Outcomes**\n",
    "\n",
    "Based on what we saw from the exploratory tables and visualizations, the model should predict wine quality with some degree of accuracy. It won't be perfect, but it should provide a reasonable estimate of a wine's quality. Human taste is ultimately the key aspect of determining whether a wine is high quality, but if quality is predicted by chemical properties alone, it could lead to breakthroughs in the winemaking industry. If successful, such a predictive model can have large implications in the industry, as the information could be used by winemakers to understand how they can produce higher quality wine, and rake in more profit. This could lead to the integration of modern chemical techniques and engineering with winemaking to revolutionize a craft that has been around for thousands of years.\n"
   ]
  },
  {
   "cell_type": "markdown",
   "id": "deee4ea0-cd10-46f3-8a7b-2792b1c73cd6",
   "metadata": {},
   "source": [
    "**Analysis** \n",
    "\n",
    "We will now begin the construction of our predictive model. We will begine by creating a recipe, stating our predictors for use in the algorithm. To maximize accuracy of our classifier, we will be performing a 10-fold cross validation, and tuning our model to find the K value with the highest accuracy. Below, we build our model, selecting quality as what to predict, selecting volatile acidity, sulphates, and density as predictors, then scaling and centering them. "
   ]
  },
  {
   "cell_type": "code",
   "execution_count": null,
   "id": "b6880d97-252b-4486-9929-d489e556e163",
   "metadata": {},
   "outputs": [],
   "source": [
    "#specifying our 3 predictors and preprocessing the data to be centered and scaled\n",
    "red_recipe<-recipe(quality~volatile.acidity+sulphates+citric.acid, data=red_train) |> step_scale(all_predictors()) |> step_center(all_predictors())\n",
    "\n",
    "#splitting our overall training data into 10 evenly-sized chunks\n",
    "red_vfold<-vfold_cv(red_train, v=10, strata=quality)\n",
    "\n",
    "#creating a classifier in order to find the best K, the number of neighbors\n",
    "knn_spec<-nearest_neighbor(weight_func = \"rectangular\", \n",
    "                             neighbors = tune()) |>\n",
    "                             set_engine(\"kknn\") |>\n",
    "                             set_mode(\"classification\")\n",
    "\n",
    "#using tune_grid in order to fit model for each value in a range of parameter values between 1 and 10\n",
    "k_vals <- tibble(neighbors = seq(from = 1, to = 10, by = 1))\n",
    "knn_results <- workflow() |>\n",
    "  add_recipe(red_recipe) |>\n",
    "  add_model(knn_spec) |>\n",
    "  tune_grid(resamples = red_vfold, grid = k_vals) |>\n",
    "  collect_metrics() \n",
    "#filtering for accuracy of each tested K value\n",
    "accuracies <- knn_results |>\n",
    "  filter(.metric == \"accuracy\")\n",
    "\n",
    "accuracies\n",
    "#creating a line plot using the accuracies dataset with neighbors on x-axis and mean on y-axis. This will help us pick the best K value\n",
    "\n",
    "accuracy_vs_k <- ggplot(accuracies, aes(x = neighbors, y = mean)) +\n",
    "  geom_point() +\n",
    "  geom_line() +\n",
    "  labs(x = \"Neighbors\", y = \"Accuracy Estimate\") + ggtitle(\"Figure 4: Accuracy vs K for Training Model\")+ theme(text = element_text(size = 12))\n",
    "options(repr.plot.width = 10, repr.plot.height = 10)\n",
    "accuracy_vs_k\n"
   ]
  },
  {
   "cell_type": "code",
   "execution_count": null,
   "id": "01fae63e-a19b-4323-b4f4-e23bc984e345",
   "metadata": {},
   "outputs": [],
   "source": [
    "\n",
    "#creating a new classifier with the best K, the number of neighbors\n",
    "knn_spec2 <- nearest_neighbor(weight_func = \"rectangular\", \n",
    "                             neighbors = 2) |>\n",
    "                             set_engine(\"kknn\") |>\n",
    "                             set_mode(\"classification\")\n",
    "#fitting the new classifier to our training data\n",
    "knn_fit <- workflow() |>\n",
    "       add_recipe(red_recipe) |>\n",
    "       add_model(knn_spec2) |>\n",
    "       fit(data = red_train)\n",
    "\n",
    "#passing our fitted model to the testing data to make a prediction\n",
    "prediction <- predict(knn_fit, red_test) |> bind_cols(red_test)\n",
    "\n",
    "#finding our classifier's accuracy\n",
    "prediction_accuracy <- prediction |>\n",
    "       metrics(truth = quality, estimate = .pred_class)       \n",
    "prediction_accuracy\n",
    "\n"
   ]
  },
  {
   "cell_type": "markdown",
   "id": "ad74354c-4123-4313-ac95-3dc5a361115d",
   "metadata": {},
   "source": [
    "Looking at the accuracy of the qualifier, we see that it has a 56% prediction accuracy. This value represents only the predictions that were correct, and does not provide any information about the distribution of the predictions relative to the actual. To visualize the predictions for comparison with the actual quality ratings, we will create histograms for each variable and how it relates to either the predicted or actual quality value, shown by figures 5a-5f below."
   ]
  },
  {
   "cell_type": "code",
   "execution_count": null,
   "id": "9c01db11-70b0-4f0d-847f-d93571f39bf0",
   "metadata": {},
   "outputs": [],
   "source": [
    "\n",
    "#comparing our predicted quality and the actual quality \n",
    " sulphur_plot_pred <- ggplot(prediction, aes(x=sulphates, fill=.pred_class)) + geom_histogram() + xlab(\"Sulphate Content\") + \n",
    "ylab(\"Quantity\") +labs(fill=\"Predicted Quality\") + ggtitle(\"Figure 5a: Wine Quality Predictions based on Sulphate Content\") + theme(text = element_text(size = 13))\n",
    "\n",
    "sulphur_plot_actual <- ggplot(prediction, aes(x=sulphates, fill=quality)) + geom_histogram() + xlab(\"Levels of Sulphate\") + \n",
    "ylab(\"Quantity\") +labs(fill=\"Quality\") + ggtitle(\"Figure 5b: Wine Quality based on Sulphate Content\") + theme(text = element_text(size = 13))\n",
    "\n",
    "density_plot_pred<- ggplot(prediction, aes(x=citric.acid, fill=.pred_class)) + geom_histogram() + xlab(\"Citric Acid Content\") + \n",
    "ylab(\"Quantity\") +labs(fill=\" Predicted Quality\") + ggtitle(\"Figure 5c: Wine Quality Predictions based on Citric Acid Content\") + theme(text = element_text(size = 13))\n",
    "\n",
    "density_plot_actual<- ggplot(prediction, aes(x=citric.acid, fill=quality)) + geom_histogram() + xlab(\"Citric Acid Content\") + \n",
    "ylab(\"Quantity\") +labs(fill=\"Quality\") + ggtitle(\"Figure 5d: Wine Quality Based on Citric Acid Content\") + theme(text = element_text(size = 13))\n",
    "\n",
    "acidity_plot_pred<- ggplot(prediction, aes(x=volatile.acidity, fill=.pred_class)) + geom_histogram() + xlab(\" Volatile Acid Content\") + \n",
    "ylab(\"Quantity\") +labs(fill=\" Predicted Quality\") + ggtitle(\"Figure 5e: Wine Quality Predictions based on Volatile Acidity\") + theme(text = element_text(size = 13))\n",
    "\n",
    "acidity_plot_actual<- ggplot(prediction, aes(x=volatile.acidity, fill=quality)) + geom_histogram() + xlab(\"Volatile Acid Content\") + \n",
    "ylab(\"Quantity\") +labs(fill=\"Quality\") + ggtitle(\"Figure 5f: Wine Quality Based on Volatile Acidity\") + theme(text = element_text(size = 13))\n",
    "\n",
    "\n",
    "options(repr.plot.width = 20, repr.plot.height = 10)\n",
    "plot_grid(sulphur_plot_pred, sulphur_plot_actual, density_plot_pred, density_plot_actual,acidity_plot_pred, acidity_plot_actual, ncol = 2)"
   ]
  },
  {
   "cell_type": "code",
   "execution_count": null,
   "id": "1d0811be-8df7-46ed-b8a5-e3903d8ebba0",
   "metadata": {},
   "outputs": [],
   "source": []
  },
  {
   "cell_type": "markdown",
   "id": "6624c836-2bf3-47b7-be02-0d2edc9d5e4b",
   "metadata": {},
   "source": [
    "**Discussion**\n",
    "\n",
    "Looking at the visualizations from our classifier output provides much more insight than the percent accuracy value. Looking at figures 5a and 5b, the overall shape and distribution of quality seems quite similar. The main noticeable difference being the spike of wines at 0.75 acidity with a predicted quality of 7 actually have a quality rating of 6. So while the classifier gave an incorrect prediction, the predictions were not far off. This pattern is seen in all of the other graphs as well. Comparing the prediction graphs in the left column with the graphs with the actual quality shown by the graphs in the right column, the graphs take oon similar shapes, and most of the differences vary by 1 quality point. In a small number of cases where true quality is at the extremes of the scale (a 3 or an 8) the predictive model may have given it a rating 2 points away from its actual (seen in figure 5e and 5f). This provides some more context behind the predictive ability of our classifier, showing that while the quality rating was predicted perfectly 62% of the time, a majority of the incorrect predictions were only 1 point away from the true value.\n",
    "\n",
    "With this infirmation in mind, it seems like the classification model is able to make a fairly accurate prediction about the quality of a certain wine. Such a classifier could be of great use to winemakers, allowing them to see wine quality by taking measurements during the winemaking process. Based on the information produced by the classifier, winemakers may then make decisions about how they cal alter the winemaking process to produce higher quality wine."
   ]
  },
  {
   "cell_type": "code",
   "execution_count": null,
   "id": "c9328aab-b3fb-46ae-89c1-414613b0c7df",
   "metadata": {},
   "outputs": [],
   "source": []
  },
  {
   "cell_type": "code",
   "execution_count": null,
   "id": "9e1f8937-4eda-49da-96ba-3168d64bd41c",
   "metadata": {},
   "outputs": [],
   "source": []
  }
 ],
 "metadata": {
  "kernelspec": {
   "display_name": "R",
   "language": "R",
   "name": "ir"
  },
  "language_info": {
   "codemirror_mode": "r",
   "file_extension": ".r",
   "mimetype": "text/x-r-source",
   "name": "R",
   "pygments_lexer": "r",
   "version": "4.1.3"
  }
 },
 "nbformat": 4,
 "nbformat_minor": 5
}
